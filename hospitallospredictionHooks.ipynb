{
 "cells": [
  {
   "cell_type": "markdown",
   "id": "60977f35",
   "metadata": {},
   "source": [
    "***EXTENSIONS FOR hospitallosprediction PIPELINE YOU CAN EDIT THESE EXTENSIONS***"
   ]
  },
  {
   "cell_type": "markdown",
   "id": "e9661cd2",
   "metadata": {},
   "source": [
    "***EXTENSIONS FOR SOURCE STAGE***"
   ]
  },
  {
   "cell_type": "code",
   "execution_count": null,
   "id": "bd4e63f7",
   "metadata": {},
   "outputs": [],
   "source": [
    "def sourcePreExecutionHook():\n",
    "\tprint('inside source pre execution hook')\n",
    "\n",
    "\n",
    "def sourcePostExecutionHook(data):\n",
    "\tprint('inside source post execution hook')\n",
    "\n",
    "\n"
   ]
  },
  {
   "cell_type": "markdown",
   "id": "13e4e3e9",
   "metadata": {},
   "source": [
    "***EXTENSIONS FOR PREDICTION STAGE***"
   ]
  },
  {
   "cell_type": "code",
   "execution_count": null,
   "id": "683be359",
   "metadata": {},
   "outputs": [],
   "source": [
    "def prediction-pipelinePreExecutionHook():\n",
    "\tprint('inside prediction-pipeline pre execution hook')\n",
    "\n",
    "\n",
    "def prediction-pipelinePostExecutionHook(data):\n",
    "\tprint('inside prediction-pipeline post execution hook')\n",
    "\n",
    "\n"
   ]
  },
  {
   "cell_type": "markdown",
   "id": "c270da78",
   "metadata": {},
   "source": [
    "***EXTENSIONS FOR SINK STAGE***"
   ]
  },
  {
   "cell_type": "code",
   "execution_count": null,
   "id": "eb30b6a7",
   "metadata": {},
   "outputs": [],
   "source": [
    "def sinkPreExecutionHook():\n",
    "\tprint('inside sink pre execution hook')\n",
    "\n",
    "\n",
    "def sinkPostExecutionHook(data):\n",
    "\tprint('inside sink post execution hook')\n",
    "\n",
    "\n"
   ]
  }
 ],
 "metadata": {},
 "nbformat": 4,
 "nbformat_minor": 5
}
